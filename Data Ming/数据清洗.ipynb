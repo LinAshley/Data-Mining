{
 "cells": [
  {
   "cell_type": "markdown",
   "metadata": {},
   "source": [
    "[原文链接](http://brettromero.com/data-science-kaggle-walkthrough-cleaning-data/)\n",
    "\n",
    "# 数据清洗\n",
    "当人们谈论数据请i，我们在谈论什么？\n",
    ">1、修正格式  \n",
    ">2、填充缺失值  \n",
    ">3、修正错误值  \n",
    ">4、标准化类别  \n",
    " > 当数据直接来自用户时，收集到的数据常常存在多种形式，例如“USA”，存在“United States”、“U.S.”等形式。\n",
    " \n",
    "## 填充缺失值的方法\n",
    "缺失值是数据清洗工作的主要问题，主要有以下两种解决方式：  \n",
    "1、删除或者忽视有缺失值的行  \n",
    "如果删除了数据集中超过10%的记录，就要慎重考虑。  \n",
    "如果删除的数据包含重要内容则应该保留。  \n",
    "2、填充缺失值\n",
    "缺失值的填充取决于数据类型。  \n",
    ">对于分类型变量，有时可以简单填充为”未知“或者用众数填充。但是这种粗略的方法会影响最终建模的准确度。  \n",
    "对于数值型变量，考虑到用众数填充会减少数据的准确度，我们可以用平均数或者中位数来代替。我们还可以用其他标准来填充，比如用选择了同一个目的地的用户的年龄的平均值来填充年龄缺失值。实际上，我们可以使用计划用于基于有数据列的country_destination来预测其他任何列中的值的相似方法。    \n",
    "\n",
    "## 加载数据\n",
    "读入两个表train_users_2.csv和test_users.csv.并把两个表合并。以便后续所有工作都可以被更新到数据集中。  \n",
    "\n"
   ]
  },
  {
   "cell_type": "code",
   "execution_count": null,
   "metadata": {},
   "outputs": [],
   "source": [
    "import pandas as pd\n",
    "\n",
    "#import data\n",
    "print(\"Reading in data...\")\n",
    "tr_filepath='./train_users_2.csv'\n",
    "df_train=pd.read_csv(tr_filepath,eader=0,index_col=None)\n",
    "te_filepath='./test_users.csv'\n",
    "df_test=pd.read_csv(te_filepath,header=0,index_col=None)\n",
    "\n",
    "#combine into one dataset\n",
    "df_all=pd.concat((df_train,df_test),axis=,ignore_index=True)"
   ]
  }
 ],
 "metadata": {
  "kernelspec": {
   "display_name": "Python 3",
   "language": "python",
   "name": "python3"
  },
  "language_info": {
   "codemirror_mode": {
    "name": "ipython",
    "version": 3
   },
   "file_extension": ".py",
   "mimetype": "text/x-python",
   "name": "python",
   "nbconvert_exporter": "python",
   "pygments_lexer": "ipython3",
   "version": "3.7.4"
  }
 },
 "nbformat": 4,
 "nbformat_minor": 2
}
